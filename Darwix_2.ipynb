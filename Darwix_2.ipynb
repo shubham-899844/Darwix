{
 "cells": [
  {
   "cell_type": "code",
   "execution_count": 2,
   "id": "c634e973-9a28-4c8a-908f-41820ed23693",
   "metadata": {},
   "outputs": [
    {
     "data": {
      "application/vnd.jupyter.widget-view+json": {
       "model_id": "c4cd6ff013134e46bfcc64895c407e07",
       "version_major": 2,
       "version_minor": 0
      },
      "text/plain": [
       "config.json:   0%|          | 0.00/1.58k [00:00<?, ?B/s]"
      ]
     },
     "metadata": {},
     "output_type": "display_data"
    },
    {
     "data": {
      "application/vnd.jupyter.widget-view+json": {
       "model_id": "b99162ab4f3b47318e45bdb2987ff778",
       "version_major": 2,
       "version_minor": 0
      },
      "text/plain": [
       "model.safetensors:   0%|          | 0.00/1.63G [00:00<?, ?B/s]"
      ]
     },
     "metadata": {},
     "output_type": "display_data"
    },
    {
     "data": {
      "application/vnd.jupyter.widget-view+json": {
       "model_id": "c874152192cb442c8dd878d41e83203a",
       "version_major": 2,
       "version_minor": 0
      },
      "text/plain": [
       "generation_config.json:   0%|          | 0.00/363 [00:00<?, ?B/s]"
      ]
     },
     "metadata": {},
     "output_type": "display_data"
    },
    {
     "data": {
      "application/vnd.jupyter.widget-view+json": {
       "model_id": "2ffc85e652304c17a07bb69f1f545740",
       "version_major": 2,
       "version_minor": 0
      },
      "text/plain": [
       "vocab.json:   0%|          | 0.00/899k [00:00<?, ?B/s]"
      ]
     },
     "metadata": {},
     "output_type": "display_data"
    },
    {
     "data": {
      "application/vnd.jupyter.widget-view+json": {
       "model_id": "8cf710e0c9364570b0d7c20102812d4f",
       "version_major": 2,
       "version_minor": 0
      },
      "text/plain": [
       "merges.txt:   0%|          | 0.00/456k [00:00<?, ?B/s]"
      ]
     },
     "metadata": {},
     "output_type": "display_data"
    },
    {
     "data": {
      "application/vnd.jupyter.widget-view+json": {
       "model_id": "11b1c5eefe9c4378affcb2dbac5bc9fa",
       "version_major": 2,
       "version_minor": 0
      },
      "text/plain": [
       "tokenizer.json:   0%|          | 0.00/1.36M [00:00<?, ?B/s]"
      ]
     },
     "metadata": {},
     "output_type": "display_data"
    },
    {
     "name": "stderr",
     "output_type": "stream",
     "text": [
      "Device set to use mps:0\n"
     ]
    }
   ],
   "source": [
    "from django.http import JsonResponse\n",
    "from django.views.decorators.csrf import csrf_exempt\n",
    "import json\n",
    "from transformers import pipeline\n",
    "\n",
    "# Load the summarization model once\n",
    "summarizer = pipeline(\"summarization\", model=\"facebook/bart-large-cnn\")\n",
    "\n",
    "@csrf_exempt\n",
    "def suggest_titles(request):\n",
    "    if request.method == 'POST':\n",
    "        try:\n",
    "            data = json.loads(request.body)\n",
    "            content = data.get('content', '')\n",
    "\n",
    "            if not content.strip():\n",
    "                return JsonResponse({\"error\": \"Content cannot be empty.\"}, status=400)\n",
    "\n",
    "            # Generate 3 different titles (summaries)\n",
    "            summaries = []\n",
    "            for _ in range(3):\n",
    "                summary = summarizer(content, max_length=12, min_length=5, do_sample=True)[0]['summary_text']\n",
    "                summaries.append(summary)\n",
    "\n",
    "            return JsonResponse({\"suggested_titles\": summaries})\n",
    "\n",
    "        except Exception as e:\n",
    "            return JsonResponse({\"error\": str(e)}, status=500)\n",
    "\n",
    "    return JsonResponse({\"error\": \"Only POST method allowed.\"}, status=405)\n"
   ]
  },
  {
   "cell_type": "code",
   "execution_count": 3,
   "id": "ccf8faed-edb5-43b0-b444-7e875e0d7cf3",
   "metadata": {},
   "outputs": [
    {
     "ename": "ImportError",
     "evalue": "attempted relative import with no known parent package",
     "output_type": "error",
     "traceback": [
      "\u001b[0;31m---------------------------------------------------------------------------\u001b[0m",
      "\u001b[0;31mImportError\u001b[0m                               Traceback (most recent call last)",
      "Cell \u001b[0;32mIn[3], line 2\u001b[0m\n\u001b[1;32m      1\u001b[0m \u001b[38;5;28;01mfrom\u001b[39;00m \u001b[38;5;21;01mdjango\u001b[39;00m\u001b[38;5;21;01m.\u001b[39;00m\u001b[38;5;21;01murls\u001b[39;00m \u001b[38;5;28;01mimport\u001b[39;00m path\n\u001b[0;32m----> 2\u001b[0m \u001b[38;5;28;01mfrom\u001b[39;00m \u001b[38;5;21;01m.\u001b[39;00m\u001b[38;5;21;01mviews\u001b[39;00m \u001b[38;5;28;01mimport\u001b[39;00m suggest_titles\n\u001b[1;32m      4\u001b[0m urlpatterns \u001b[38;5;241m=\u001b[39m [\n\u001b[1;32m      5\u001b[0m     path(\u001b[38;5;124m'\u001b[39m\u001b[38;5;124mapi/suggest-titles/\u001b[39m\u001b[38;5;124m'\u001b[39m, suggest_titles, name\u001b[38;5;241m=\u001b[39m\u001b[38;5;124m'\u001b[39m\u001b[38;5;124msuggest_titles\u001b[39m\u001b[38;5;124m'\u001b[39m),\n\u001b[1;32m      6\u001b[0m ]\n",
      "\u001b[0;31mImportError\u001b[0m: attempted relative import with no known parent package"
     ]
    }
   ],
   "source": [
    "from django.urls import path\n",
    "from .views import suggest_titles\n",
    "\n",
    "urlpatterns = [\n",
    "    path('api/suggest-titles/', suggest_titles, name='suggest_titles'),\n",
    "]\n"
   ]
  },
  {
   "cell_type": "code",
   "execution_count": null,
   "id": "2d3711ba-8db3-43ce-8765-9282445a025d",
   "metadata": {},
   "outputs": [],
   "source": [
    "{\n",
    "  \"content\": \"In this blog, we explore the future of robotics and artificial intelligence, focusing on how these technologies are reshaping industries and daily life.\"\n",
    "}\n"
   ]
  },
  {
   "cell_type": "code",
   "execution_count": null,
   "id": "dbe23c20-d80a-4bfe-9db2-7972c894ff94",
   "metadata": {},
   "outputs": [],
   "source": []
  }
 ],
 "metadata": {
  "kernelspec": {
   "display_name": "Python 3 (ipykernel)",
   "language": "python",
   "name": "python3"
  },
  "language_info": {
   "codemirror_mode": {
    "name": "ipython",
    "version": 3
   },
   "file_extension": ".py",
   "mimetype": "text/x-python",
   "name": "python",
   "nbconvert_exporter": "python",
   "pygments_lexer": "ipython3",
   "version": "3.12.4"
  }
 },
 "nbformat": 4,
 "nbformat_minor": 5
}
